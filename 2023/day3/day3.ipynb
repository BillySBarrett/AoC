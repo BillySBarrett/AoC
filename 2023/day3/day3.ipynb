{
 "cells": [
  {
   "cell_type": "code",
   "execution_count": 159,
   "metadata": {},
   "outputs": [],
   "source": [
    "def get_unique_symbols(schematic: list[str]) -> set[str]:\n",
    "    unique_symbols = set()\n",
    "\n",
    "    for i in range(len(schematic)):\n",
    "        for j in range(len(schematic[i])):\n",
    "            if schematic[i][j] not in \"0123456789.\":\n",
    "                unique_symbols.add(schematic[i][j])\n",
    "    \n",
    "    return unique_symbols\n",
    "\n",
    "def sum_part_numbers(schematic: list[str]) -> int:\n",
    "    def has_adjacent_symbol(i, j):\n",
    "        directions = [(-1, -1), (-1, 0), (-1, 1), (0, -1), (0, 1), (1, -1), (1, 0), (1, 1)]\n",
    "        for di, dj in directions:\n",
    "            ni, nj = i + di, j + dj\n",
    "            # {'&', '/', '$', '*', '=', '%', '#', '@', '+', '-'}\n",
    "            if 0 <= ni < len(schematic) and 0 <= nj < len(schematic[0]) and schematic[ni][nj] in '&/$*=%#@+-':\n",
    "                return True\n",
    "        return False\n",
    "\n",
    "    sum_parts = 0\n",
    "\n",
    "    for i in range(len(schematic)):\n",
    "        j = 0\n",
    "        while j < len(schematic[i]):\n",
    "            if schematic[i][j].isdigit():\n",
    "                start = j\n",
    "                while j < len(schematic[i]) and schematic[i][j].isdigit():\n",
    "                    j += 1\n",
    "                number = int(schematic[i][start:j])\n",
    "                if any(has_adjacent_symbol(i, x) for x in range(start, j)):\n",
    "                    sum_parts += number\n",
    "            else:\n",
    "                j += 1\n",
    "\n",
    "    return sum_parts\n",
    "\n",
    "def TASK1():\n",
    "    with open(\"input.txt\", \"r\") as file:\n",
    "        schematic = file.read().splitlines()\n",
    "    print(get_unique_symbols(schematic))\n",
    "    return sum_part_numbers(schematic)"
   ]
  },
  {
   "cell_type": "code",
   "execution_count": 160,
   "metadata": {},
   "outputs": [],
   "source": [
    "def calculate_gear_ratios_diagonal(schematic):\n",
    "    sum_gear_ratios = 0\n",
    "\n",
    "    def extract_full_number(i, j):\n",
    "        if not (0 <= i < len(schematic) and 0 <= j < len(schematic[0]) and schematic[i][j].isdigit()):\n",
    "            return None\n",
    "\n",
    "        start, end = j, j + 1\n",
    "        while start > 0 and schematic[i][start - 1].isdigit():\n",
    "            start -= 1\n",
    "        while end < len(schematic[i]) and schematic[i][end].isdigit():\n",
    "            end += 1\n",
    "\n",
    "        return int(schematic[i][start:end])\n",
    "\n",
    "    def extract_numbers_around_gear(i, j):\n",
    "        directions = [(-1, -1), (-1, 0), (-1, 1), (0, -1), (0, 1), (1, -1), (1, 0), (1, 1)]\n",
    "        numbers = set()  \n",
    "        for di, dj in directions:\n",
    "            number = extract_full_number(i + di, j + dj)\n",
    "            if number is not None:\n",
    "                numbers.add(number)\n",
    "        return list(numbers)\n",
    "\n",
    "    for i in range(len(schematic)):\n",
    "        for j in range(len(schematic[i])):\n",
    "            if schematic[i][j] == '*':\n",
    "                adjacent_numbers = extract_numbers_around_gear(i, j)\n",
    "                if len(adjacent_numbers) == 2:\n",
    "                    sum_gear_ratios += adjacent_numbers[0] * adjacent_numbers[1]\n",
    "\n",
    "    return sum_gear_ratios\n",
    "\n",
    "def TASK2():\n",
    "    with open(\"input.txt\", \"r\") as file:\n",
    "        schematic = file.read().splitlines()\n",
    "    return calculate_gear_ratios_diagonal(schematic)\n",
    "\n"
   ]
  },
  {
   "cell_type": "code",
   "execution_count": 161,
   "metadata": {},
   "outputs": [
    {
     "name": "stdout",
     "output_type": "stream",
     "text": [
      "{'&', '/', '$', '*', '=', '%', '#', '@', '+', '-'}\n",
      "Task 1: 527364\n",
      "\n",
      "Task 2: 79026871\n"
     ]
    }
   ],
   "source": [
    "def main():\n",
    "    print('Task 1:', TASK1())\n",
    "    print()\n",
    "    print('Task 2:', TASK2())\n",
    "\n",
    "if __name__ == '__main__':\n",
    "    main()\n"
   ]
  }
 ],
 "metadata": {
  "kernelspec": {
   "display_name": "Python 3",
   "language": "python",
   "name": "python3"
  },
  "language_info": {
   "codemirror_mode": {
    "name": "ipython",
    "version": 3
   },
   "file_extension": ".py",
   "mimetype": "text/x-python",
   "name": "python",
   "nbconvert_exporter": "python",
   "pygments_lexer": "ipython3",
   "version": "3.11.1"
  }
 },
 "nbformat": 4,
 "nbformat_minor": 2
}
