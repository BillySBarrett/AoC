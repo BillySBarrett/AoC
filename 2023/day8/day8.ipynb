{
 "cells": [
  {
   "cell_type": "code",
   "execution_count": null,
   "metadata": {},
   "outputs": [
    {
     "name": "stdout",
     "output_type": "stream",
     "text": [
      "20513\n"
     ]
    }
   ],
   "source": [
    "with open(\"input.txt\") as f:\n",
    "    data = f.read()\n",
    "instructions, *rest = data.split(\"\\n\\n\")\n",
    "\n",
    "def create_mapping(mapping: str) -> dict:\n",
    "    lines = mapping.split(\"\\n\")\n",
    "    mapping = {}\n",
    "    for line in lines:\n",
    "        key, value = line.split(\" = \")\n",
    "        value = value[1:-1].split(\", \")\n",
    "        mapping[key] = value\n",
    "    return mapping\n",
    "\n",
    "def find_path(mapping: dict):\n",
    "    start = \"AAA\"\n",
    "    current = start\n",
    "    count = 0 \n",
    "    end = \"ZZZ\"\n",
    "    current_instruction_index = 0\n",
    "\n",
    "    while current != end:\n",
    "        instruction = instructions[current_instruction_index % len(instructions)]\n",
    "\n",
    "        if instruction == 'L':\n",
    "            current = mapping[current][0]\n",
    "        elif instruction == 'R':\n",
    "            current = mapping[current][1]\n",
    "        count += 1\n",
    "        current_instruction_index += 1\n",
    "\n",
    "    return count\n",
    "\n",
    "\n",
    "print(find_path(create_mapping(rest[0])))"
   ]
  },
  {
   "cell_type": "code",
   "execution_count": 13,
   "metadata": {},
   "outputs": [
    {
     "name": "stdout",
     "output_type": "stream",
     "text": [
      "p2 15995167053923\n"
     ]
    }
   ],
   "source": [
    "import math\n",
    "import re\n",
    "\n",
    "\n",
    "def part_2(instructions, tree):\n",
    "    current_match_list = [key for key in tree.keys() if key.endswith('A')]\n",
    "\n",
    "    dis = 0\n",
    "    itera = 0\n",
    "    while not all(isinstance(element, int) for element in current_match_list):\n",
    "        for idx in range(len(current_match_list)):\n",
    "            element = current_match_list[idx]\n",
    "            if isinstance(element, int): continue\n",
    "            if element.endswith('Z'):\n",
    "                current_match_list[idx] = int(dis)\n",
    "                continue\n",
    "\n",
    "            if instructions[itera] == \"R\":\n",
    "                element = tree[element][1]\n",
    "            if instructions[itera] == \"L\":\n",
    "                element = tree[element][0]\n",
    "\n",
    "            current_match_list[idx] = element\n",
    "\n",
    "        dis += 1\n",
    "        itera = (itera + 1) % len(instructions)\n",
    "    sum = math.lcm(*current_match_list)\n",
    "    return sum\n",
    "\n",
    "\n",
    "with open(\"input.txt\") as data:\n",
    "    lines = data.readlines()\n",
    "\n",
    "    instructions = lines[0][0:-1]\n",
    "    tree_lines = lines[2:]\n",
    "\n",
    "    tree = {}\n",
    "    pattern = re.compile(r'(\\w+)\\s*=\\s*\\((\\w+),\\s*(\\w+)\\)')\n",
    "    for entry in tree_lines:\n",
    "        match = pattern.match(entry)\n",
    "        tree[match.group(1)] = (match.group(2), match.group(3))\n",
    "    print(\"p2\",part_2(instructions, tree))"
   ]
  }
 ],
 "metadata": {
  "kernelspec": {
   "display_name": "Python 3",
   "language": "python",
   "name": "python3"
  },
  "language_info": {
   "codemirror_mode": {
    "name": "ipython",
    "version": 3
   },
   "file_extension": ".py",
   "mimetype": "text/x-python",
   "name": "python",
   "nbconvert_exporter": "python",
   "pygments_lexer": "ipython3",
   "version": "3.11.1"
  }
 },
 "nbformat": 4,
 "nbformat_minor": 2
}
