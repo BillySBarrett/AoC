{
 "cells": [
  {
   "cell_type": "code",
   "execution_count": 1,
   "metadata": {},
   "outputs": [
    {
     "name": "stdout",
     "output_type": "stream",
     "text": [
      "part 1 1581679977\n"
     ]
    }
   ],
   "source": [
    "def getDifferenceList(list1):\n",
    "    differenceList = []\n",
    "    for i in range(1, len(list1)):\n",
    "        differenceList.append(list1[i] - list1[i-1])\n",
    "    return differenceList\n",
    "\n",
    "def get_next_number(list1):\n",
    "    differenceLists = [list1]\n",
    "    while len(set(list1)) != 1:\n",
    "        differenceLists.append(getDifferenceList(list1))\n",
    "        list1 = getDifferenceList(list1)\n",
    "    for i in range(len(differenceLists)-1, -1, -1):\n",
    "        if i == len(differenceLists)-1:\n",
    "            differenceLists[i].append(differenceLists[i][-1])\n",
    "        else:\n",
    "            differenceLists[i].append(differenceLists[i][-1] + differenceLists[i+1][-1])\n",
    "        \n",
    "\n",
    "    return differenceLists[0][-1]\n",
    "\n",
    "with open(\"input.txt\") as f:\n",
    "    data = f.read().splitlines()\n",
    "    data = [[int(x) for x in line.split()] for line in data]\n",
    "    total = 0\n",
    "    for line in data:\n",
    "        total += get_next_number(line)\n",
    "    print('part 1', total)"
   ]
  },
  {
   "cell_type": "code",
   "execution_count": 2,
   "metadata": {},
   "outputs": [
    {
     "name": "stdout",
     "output_type": "stream",
     "text": [
      "part 2 889\n"
     ]
    }
   ],
   "source": [
    "def getDifferenceList(list1):\n",
    "    differenceList = []\n",
    "    for i in range(1, len(list1)):\n",
    "        differenceList.append(list1[i] - list1[i-1])\n",
    "    return differenceList\n",
    "\n",
    "def get_prev_number(list1):\n",
    "    differenceLists = [list1]\n",
    "    while len(set(list1)) != 1:\n",
    "        differenceLists.append(getDifferenceList(list1))\n",
    "        list1 = getDifferenceList(list1)\n",
    "    for i in range(len(differenceLists)-1, -1, -1):\n",
    "        if i == len(differenceLists)-1:\n",
    "            differenceLists[i].insert(0, differenceLists[i][0])\n",
    "        else:\n",
    "            differenceLists[i].insert(0, differenceLists[i][0] - differenceLists[i+1][0])\n",
    "    return differenceLists[0][0]\n",
    "\n",
    "with open(\"input.txt\") as f:\n",
    "    data = f.read().splitlines()\n",
    "    data = [[int(x) for x in line.split()] for line in data]\n",
    "    total = 0\n",
    "    for line in data:\n",
    "        total += get_prev_number(line)\n",
    "    print('part 2', total)\n"
   ]
  }
 ],
 "metadata": {
  "kernelspec": {
   "display_name": "Python 3",
   "language": "python",
   "name": "python3"
  },
  "language_info": {
   "codemirror_mode": {
    "name": "ipython",
    "version": 3
   },
   "file_extension": ".py",
   "mimetype": "text/x-python",
   "name": "python",
   "nbconvert_exporter": "python",
   "pygments_lexer": "ipython3",
   "version": "3.11.1"
  }
 },
 "nbformat": 4,
 "nbformat_minor": 2
}
