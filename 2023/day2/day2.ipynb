{
 "cells": [
  {
   "cell_type": "code",
   "execution_count": 19,
   "metadata": {},
   "outputs": [],
   "source": [
    "# game input looks like this for each line:\n",
    "# Game 1: 3 blue, 4 red; 1 red, 2 green, 6 blue; 2 green\n",
    "# Game 2: 5 blue, 4 red; 1 red, 2 green, 6 blue; 2 green\n",
    "\n",
    "# only 12 red cubes, 13 green cubes, and 14 blue cubes\n",
    "def evaluate(hand):\n",
    "    if hand[1] == 'red':\n",
    "        return hand[0] <= 12\n",
    "    elif hand[1] == 'green':\n",
    "        return hand[0] <= 13\n",
    "    elif hand[1] == 'blue':\n",
    "        return hand[0] <= 14\n",
    "\n",
    "def isGameValid(game):\n",
    "    game = game.split(';')\n",
    "    for i in range(len(game)):\n",
    "        game[i] = game[i].split(',')\n",
    "        for j in range(len(game[i])):\n",
    "            game[i][j] = game[i][j].strip()\n",
    "            game[i][j] = game[i][j].split(' ')\n",
    "            game[i][j][0] = int(game[i][j][0])\n",
    "            if not evaluate(game[i][j]):\n",
    "                return False\n",
    "    return True\n",
    "\n",
    "def TASK1():\n",
    "    total = 0\n",
    "    with open('input.txt') as file:\n",
    "        lines = file.read().splitlines()\n",
    "        for line in lines:\n",
    "            line = line.split(':')\n",
    "            if isGameValid(line[1]):\n",
    "                total += int(line[0].split(' ')[1]) \n",
    "    return total"
   ]
  },
  {
   "cell_type": "code",
   "execution_count": 20,
   "metadata": {},
   "outputs": [],
   "source": [
    "import re\n",
    "\n",
    "def TASK2():\n",
    "    with open(\"input.txt\", \"r\") as file:\n",
    "        file = file.read().splitlines()\n",
    "\n",
    "    colors = [\"red\", \"green\", \"blue\"]\n",
    "    power_sum = 0\n",
    "\n",
    "    for game in file:\n",
    "        mins={\n",
    "            \"red\": 0,\n",
    "            \"green\": 0,\n",
    "            \"blue\": 0\n",
    "        }\n",
    "\n",
    "        rounds = game.split(\";\")\n",
    "        for round in rounds:\n",
    "            for color in colors:\n",
    "                matches = re.search(\"(\\d+) \" + color, round)\n",
    "                if matches is not None:\n",
    "                    number_of_color = int(matches.groups()[0])\n",
    "                    if number_of_color > mins[color]:\n",
    "                        mins[color] = number_of_color\n",
    "\n",
    "        power = 1\n",
    "        for v in mins.values():\n",
    "            power *= v\n",
    "        power_sum += power\n",
    "\n",
    "    return power_sum"
   ]
  },
  {
   "cell_type": "code",
   "execution_count": 21,
   "metadata": {},
   "outputs": [
    {
     "name": "stdout",
     "output_type": "stream",
     "text": [
      "Task 1: 2545\n",
      "\n",
      "Task 2: 78111\n"
     ]
    }
   ],
   "source": [
    "def main():\n",
    "    print('Task 1:', TASK1())\n",
    "    print()\n",
    "    print('Task 2:', TASK2())\n",
    "\n",
    "if __name__ == '__main__':\n",
    "    main()"
   ]
  }
 ],
 "metadata": {
  "kernelspec": {
   "display_name": "Python 3",
   "language": "python",
   "name": "python3"
  },
  "language_info": {
   "codemirror_mode": {
    "name": "ipython",
    "version": 3
   },
   "file_extension": ".py",
   "mimetype": "text/x-python",
   "name": "python",
   "nbconvert_exporter": "python",
   "pygments_lexer": "ipython3",
   "version": "3.11.1"
  }
 },
 "nbformat": 4,
 "nbformat_minor": 2
}
