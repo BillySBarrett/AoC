{
 "cells": [
  {
   "cell_type": "code",
   "execution_count": 33,
   "metadata": {},
   "outputs": [
    {
     "name": "stdout",
     "output_type": "stream",
     "text": [
      "18653\n"
     ]
    }
   ],
   "source": [
    "def TASK1():\n",
    "    with open('input.txt') as f:\n",
    "        total = sum(2 ** (len(set(w.split()) & set(o.split())) - 1)\n",
    "                    for w, o in (line.split(':')[1].split('|') for line in f)\n",
    "                    if set(w.split()) & set(o.split()))\n",
    "\n",
    "    print(total)\n",
    "TASK1()"
   ]
  },
  {
   "cell_type": "code",
   "execution_count": 34,
   "metadata": {},
   "outputs": [
    {
     "name": "stdout",
     "output_type": "stream",
     "text": [
      "5921508\n"
     ]
    }
   ],
   "source": [
    "def process_cards(card_strings):\n",
    "    cards = [(set(map(int, s.split(\" | \")[0].split()[2:])), set(map(int, s.split(\" | \")[1].split()))) for s in card_strings]\n",
    "\n",
    "    def count_copies(card_index):\n",
    "        if card_index >= len(cards):\n",
    "            return 0\n",
    "        return 1 + sum(count_copies(card_index + i + 1) for i in range(len(cards[card_index][0].intersection(cards[card_index][1]))))\n",
    "\n",
    "    return sum(count_copies(i) for i in range(len(cards)))\n",
    "\n",
    "with open('input.txt') as f:\n",
    "    data = f.read().splitlines()\n",
    "print(process_cards(data))\n"
   ]
  }
 ],
 "metadata": {
  "kernelspec": {
   "display_name": "Python 3",
   "language": "python",
   "name": "python3"
  },
  "language_info": {
   "codemirror_mode": {
    "name": "ipython",
    "version": 3
   },
   "file_extension": ".py",
   "mimetype": "text/x-python",
   "name": "python",
   "nbconvert_exporter": "python",
   "pygments_lexer": "ipython3",
   "version": "3.11.1"
  }
 },
 "nbformat": 4,
 "nbformat_minor": 2
}
