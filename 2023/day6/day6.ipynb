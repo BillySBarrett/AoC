{
 "cells": [
  {
   "cell_type": "code",
   "execution_count": 29,
   "metadata": {},
   "outputs": [
    {
     "name": "stdout",
     "output_type": "stream",
     "text": [
      "part1 227850\n"
     ]
    }
   ],
   "source": [
    "raceTimes = [59, 70, 78, 78]\n",
    "raceDistances = [430, 1218, 1213, 1276]\n",
    "\n",
    "races=[(59, 430), (70, 1218), (78, 1213), (78, 1276)]\n",
    "\n",
    "def getWinningTimes(raceTime: int, raceDistance):\n",
    "    return len([i for i in range(raceTime) if i * (raceTime - i) >= raceDistance])\n",
    "\n",
    "countOfWinningTimes = 1\n",
    "for raceTime, raceDistance in races:\n",
    "    winningTimes = getWinningTimes(raceTime, raceDistance)\n",
    "    countOfWinningTimes = countOfWinningTimes * winningTimes\n",
    "print('part1',countOfWinningTimes)\n"
   ]
  },
  {
   "cell_type": "code",
   "execution_count": 30,
   "metadata": {},
   "outputs": [
    {
     "name": "stdout",
     "output_type": "stream",
     "text": [
      "42948149\n"
     ]
    }
   ],
   "source": [
    "raceTime = 59707878\n",
    "raceDistance = 430121812131276\n",
    "\n",
    "print(getWinningTimes(raceTime, raceDistance))"
   ]
  }
 ],
 "metadata": {
  "kernelspec": {
   "display_name": "Python 3",
   "language": "python",
   "name": "python3"
  },
  "language_info": {
   "codemirror_mode": {
    "name": "ipython",
    "version": 3
   },
   "file_extension": ".py",
   "mimetype": "text/x-python",
   "name": "python",
   "nbconvert_exporter": "python",
   "pygments_lexer": "ipython3",
   "version": "3.11.1"
  }
 },
 "nbformat": 4,
 "nbformat_minor": 2
}
