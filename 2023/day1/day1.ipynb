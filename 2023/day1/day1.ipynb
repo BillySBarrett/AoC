{
 "cells": [
  {
   "cell_type": "markdown",
   "metadata": {},
   "source": [
    "# Day 1"
   ]
  },
  {
   "cell_type": "markdown",
   "metadata": {},
   "source": [
    "## Part 1"
   ]
  },
  {
   "cell_type": "code",
   "execution_count": 158,
   "metadata": {},
   "outputs": [],
   "source": [
    "import re\n",
    "\n",
    "def TASK1():\n",
    "    with open('input.txt') as file:\n",
    "        return sum([int(re.findall(r'\\d', line)[0] + re.findall(r'\\d', line)[-1]) for line in file.read().splitlines()])\n"
   ]
  },
  {
   "cell_type": "markdown",
   "metadata": {},
   "source": [
    "## Part 2"
   ]
  },
  {
   "cell_type": "code",
   "execution_count": 157,
   "metadata": {},
   "outputs": [],
   "source": [
    "stringToDigit = {\n",
    "        'zero': '0',\n",
    "        'one': '1',\n",
    "        'two': '2',\n",
    "        'three': '3',\n",
    "        'four': '4',\n",
    "        'five': '5',\n",
    "        'six': '6',\n",
    "        'seven': '7',\n",
    "        'eight': '8',\n",
    "        'nine': '9'\n",
    "}\n",
    "\n",
    "def calculate_value(line):\n",
    "    number_words = {}\n",
    "\n",
    "    for i, char in enumerate(line):\n",
    "        if char.isdigit():\n",
    "            number_words[i] = char\n",
    "\n",
    "        elif char.isalpha():\n",
    "            regex_patterns = [re.escape(word) for word in sorted(stringToDigit.keys(), key=len, reverse=True)]\n",
    "            pattern = '|'.join(regex_patterns)\n",
    "\n",
    "            # Find the number word that matches the regex pattern\n",
    "            match = re.match(pattern, line[i:])\n",
    "            if match:\n",
    "                number_words[i] = stringToDigit[match.group(0)]\n",
    "    if not number_words:\n",
    "        return 0\n",
    "\n",
    "\n",
    "    value = number_words[sorted(number_words.keys())[0]] + number_words[sorted(number_words.keys())[-1]]\n",
    "    return int(value)\n",
    "                \n",
    "\n",
    "def TASK2():\n",
    "    with open('input.txt') as file:\n",
    "        return sum([calculate_value(line) for line in file.read().splitlines()])"
   ]
  },
  {
   "cell_type": "markdown",
   "metadata": {},
   "source": [
    "### Tests for task 2"
   ]
  },
  {
   "cell_type": "code",
   "execution_count": null,
   "metadata": {},
   "outputs": [],
   "source": [
    "# Test cases\n",
    "test_cases = {\n",
    "    \"two1nine\": 29,\n",
    "    \"eightwothree\": 83,\n",
    "    \"abcone2threexyz\": 13,\n",
    "    \"xtwone3four\": 24,\n",
    "    \"4nineeightseven2\": 42,\n",
    "    \"zoneight234\": 14,\n",
    "    \"7pqrstsixteen\": 76,\n",
    "    \"twone\": 21,  # Overlapping case\n",
    "    \"onetwothree\": 13,  # Multiple numbers\n",
    "    \"no_numbers_here\": 0,  # No numbers\n",
    "}\n",
    "\n",
    "for line, expected in test_cases.items():\n",
    "    actual = calculate_value(line)\n",
    "    assert actual == expected, f\"Failed for line: {line}. Expected: {expected}, Actual: {actual}\"\n",
    "\n",
    "print(\"Test passed!\")"
   ]
  },
  {
   "cell_type": "markdown",
   "metadata": {},
   "source": [
    "## Results"
   ]
  },
  {
   "cell_type": "code",
   "execution_count": 159,
   "metadata": {},
   "outputs": [
    {
     "name": "stdout",
     "output_type": "stream",
     "text": [
      "Task 1: 55712\n",
      "Task 2: 55413\n"
     ]
    }
   ],
   "source": [
    "def main():\n",
    "    print('Task 1:', TASK1())\n",
    "    print('Task 2:', TASK2())\n",
    "\n",
    "if __name__ == '__main__':\n",
    "    main()"
   ]
  }
 ],
 "metadata": {
  "kernelspec": {
   "display_name": "Python 3",
   "language": "python",
   "name": "python3"
  },
  "language_info": {
   "codemirror_mode": {
    "name": "ipython",
    "version": 3
   },
   "file_extension": ".py",
   "mimetype": "text/x-python",
   "name": "python",
   "nbconvert_exporter": "python",
   "pygments_lexer": "ipython3",
   "version": "3.11.1"
  }
 },
 "nbformat": 4,
 "nbformat_minor": 2
}
