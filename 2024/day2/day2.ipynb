{
 "cells": [
  {
   "cell_type": "code",
   "execution_count": null,
   "metadata": {},
   "outputs": [],
   "source": [
    "def is_safe(line):\n",
    "    if not (\n",
    "        all(line[i] < line[i + 1] for i in range(len(line) - 1)) or \n",
    "        all(line[i] > line[i + 1] for i in range(len(line) - 1))\n",
    "    ):\n",
    "        return False\n",
    "\n",
    "    for i in range(len(line) - 1):\n",
    "        diff = abs(line[i + 1] - line[i])\n",
    "        if diff < 1 or diff > 3:\n",
    "            return False\n",
    "\n",
    "    return True\n",
    "\n",
    "def part1(lines):\n",
    "    lines = [list(map(int, line.split())) for line in lines]\n",
    "    return sum(1 for line in lines if is_safe(line))"
   ]
  },
  {
   "cell_type": "code",
   "execution_count": null,
   "metadata": {},
   "outputs": [],
   "source": [
    "def is_safe_with_dampener(line: list[int]) -> bool:\n",
    "    if is_safe(line):\n",
    "        return True\n",
    "\n",
    "    for i in range(len(line)):\n",
    "        new_line = line[:i] + line[i+1:]\n",
    "        if is_safe(new_line):\n",
    "            return True\n",
    "\n",
    "    return False\n",
    "\n",
    "def part2(lines):\n",
    "    lines = [list(map(int, line.strip().split())) for line in lines]\n",
    "    return sum(1 for line in lines if is_safe_with_dampener(line))\n"
   ]
  },
  {
   "cell_type": "code",
   "execution_count": 12,
   "metadata": {},
   "outputs": [
    {
     "name": "stdout",
     "output_type": "stream",
     "text": [
      "Part 1: 432\n",
      "Part 2: 488\n"
     ]
    }
   ],
   "source": [
    "if __name__ == \"__main__\":\n",
    "    with open(\"input.txt\") as f:\n",
    "        lines = f.readlines()\n",
    "    print(\"Part 1:\", part1(lines))\n",
    "    print(\"Part 2:\", part2(lines))"
   ]
  }
 ],
 "metadata": {
  "kernelspec": {
   "display_name": "Python 3",
   "language": "python",
   "name": "python3"
  },
  "language_info": {
   "codemirror_mode": {
    "name": "ipython",
    "version": 3
   },
   "file_extension": ".py",
   "mimetype": "text/x-python",
   "name": "python",
   "nbconvert_exporter": "python",
   "pygments_lexer": "ipython3",
   "version": "3.12.2"
  }
 },
 "nbformat": 4,
 "nbformat_minor": 2
}
