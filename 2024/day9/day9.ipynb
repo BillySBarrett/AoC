{
 "cells": [
  {
   "cell_type": "code",
   "execution_count": 1,
   "metadata": {},
   "outputs": [],
   "source": [
    "def parse_diskmap(data):\n",
    "    diskmap = []\n",
    "    file_id = 0\n",
    "    for index, num in enumerate(data):\n",
    "        num = int(num)\n",
    "        if index % 2 == 0:\n",
    "            diskmap.append((file_id, num))\n",
    "            file_id += 1\n",
    "        else:\n",
    "            diskmap.append((None, num))\n",
    "    return diskmap\n",
    "\n",
    "def extend_diskmap(diskmap):\n",
    "    extended = []\n",
    "    for block_type, size in diskmap:\n",
    "        extended.extend([block_type] * size)\n",
    "    return extended\n",
    "\n",
    "def initialize_disk_state(data):\n",
    "    diskmap = parse_diskmap(data)\n",
    "    disk_state = []\n",
    "    blocks, spaces = [], []\n",
    "    pos = 0\n",
    "\n",
    "    for block_type, size in diskmap:\n",
    "        if block_type is None:\n",
    "            spaces.append((pos, size))\n",
    "            disk_state.extend([None] * size)\n",
    "        else:\n",
    "            blocks.append((pos, size, block_type))\n",
    "            disk_state.extend([block_type] * size)\n",
    "        pos += size\n",
    "\n",
    "    return diskmap, disk_state, blocks, spaces\n",
    "\n",
    "def calculate_checksum(disk_state):\n",
    "    return sum(i * val for i, val in enumerate(disk_state) if val is not None)\n"
   ]
  },
  {
   "cell_type": "code",
   "execution_count": 2,
   "metadata": {},
   "outputs": [],
   "source": [
    "def calculate_checksum_part1(data):\n",
    "    diskmap = parse_diskmap(data)\n",
    "    extended = extend_diskmap(diskmap)\n",
    "    \n",
    "    # lower bound\n",
    "    lb = 0\n",
    "    for i in range(len(extended) - 1, 0, -1):\n",
    "        if extended[i] is not None:\n",
    "            for j in range(lb, i):\n",
    "                if extended[j] is None:\n",
    "                    lb = j\n",
    "                    extended[j], extended[i] = extended[i], extended[j]\n",
    "                    break\n",
    "\n",
    "    return calculate_checksum(extended)"
   ]
  },
  {
   "cell_type": "code",
   "execution_count": 3,
   "metadata": {},
   "outputs": [],
   "source": [
    "def calculate_checksum_part2(data):\n",
    "    _, disk_state, blocks, spaces = initialize_disk_state(data)\n",
    "\n",
    "    for pos, size, block_type in reversed(blocks):\n",
    "        for i, (space_pos, space_size) in enumerate(spaces):\n",
    "            if space_pos < pos and size <= space_size:\n",
    "                for j in range(size):\n",
    "                    assert disk_state[pos + j] == block_type\n",
    "                    disk_state[pos + j] = None\n",
    "                    disk_state[space_pos + j] = block_type\n",
    "\n",
    "\n",
    "                if size == space_size:\n",
    "                    # remove fully consumed space\n",
    "                    spaces = [s for s in spaces if s != (space_pos, space_size)]\n",
    "                else:\n",
    "                    # Update remaining free space\n",
    "                    spaces[i] = (space_pos + size, space_size - size)\n",
    "\n",
    "                break\n",
    "\n",
    "    return calculate_checksum(disk_state)"
   ]
  },
  {
   "cell_type": "code",
   "execution_count": 4,
   "metadata": {},
   "outputs": [
    {
     "name": "stdout",
     "output_type": "stream",
     "text": [
      "Part 1: 6310675819476\n",
      "Part 2: 6335972980679\n"
     ]
    }
   ],
   "source": [
    "if __name__ == '__main__':\n",
    "    with open(\"input.txt\") as f:\n",
    "        data = f.read().strip() \n",
    "    print(\"Part 1:\", calculate_checksum_part1(data))\n",
    "    print(\"Part 2:\", calculate_checksum_part2(data))\n"
   ]
  }
 ],
 "metadata": {
  "kernelspec": {
   "display_name": "Python 3",
   "language": "python",
   "name": "python3"
  },
  "language_info": {
   "codemirror_mode": {
    "name": "ipython",
    "version": 3
   },
   "file_extension": ".py",
   "mimetype": "text/x-python",
   "name": "python",
   "nbconvert_exporter": "python",
   "pygments_lexer": "ipython3",
   "version": "3.12.2"
  }
 },
 "nbformat": 4,
 "nbformat_minor": 2
}
