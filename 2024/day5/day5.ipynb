{
 "cells": [
  {
   "cell_type": "code",
   "execution_count": 7,
   "metadata": {},
   "outputs": [],
   "source": [
    "def parse_input(lines):\n",
    "    rules = []\n",
    "    pages = []\n",
    "\n",
    "    for line in lines:\n",
    "        if line == \"\\n\":\n",
    "            break\n",
    "        rules.append(line.strip().split(\"|\"))\n",
    "\n",
    "    for line in lines[len(rules) + 1:]:\n",
    "        pages.append(line.strip().split(\",\"))\n",
    "\n",
    "    return rules, pages\n",
    "\n",
    "\n",
    "def validate_pages(rules, pages):\n",
    "    valid_orders = []\n",
    "    invalid_orders = []\n",
    "\n",
    "    for page in pages:\n",
    "        valid = True\n",
    "        for rule in rules:\n",
    "            try:\n",
    "                comp1 = page.index(rule[0])\n",
    "                comp2 = page.index(rule[1])\n",
    "                if comp1 > comp2:\n",
    "                    valid = False\n",
    "                    invalid_orders.append(page)\n",
    "                    break\n",
    "            except ValueError:\n",
    "                continue\n",
    "\n",
    "        if valid:\n",
    "            valid_orders.append(page)\n",
    "\n",
    "    return valid_orders, invalid_orders\n",
    "\n",
    "\n",
    "def calculate_middle_sum(valid_orders):\n",
    "    total = 0\n",
    "    for page in valid_orders:\n",
    "        mid_index = len(page) // 2\n",
    "        total += int(page[mid_index])\n",
    "    return total\n",
    "\n",
    "\n",
    "def part1(valid_orders):\n",
    "    total = calculate_middle_sum(valid_orders)\n",
    "    return total"
   ]
  },
  {
   "cell_type": "code",
   "execution_count": 8,
   "metadata": {},
   "outputs": [],
   "source": [
    "def fix_page(invalid_order: list[str], rules: list[list[str]]) -> str:\n",
    "    for rule in rules:\n",
    "        try:\n",
    "            comp1 = invalid_order.index(rule[0])\n",
    "            comp2 = invalid_order.index(rule[1])\n",
    "            if comp1 > comp2:\n",
    "                invalid_order.insert(comp2, invalid_order.pop(comp1))\n",
    "                fix_page(invalid_order, rules)\n",
    "                break\n",
    "        except ValueError:\n",
    "            continue\n",
    "\n",
    "    return invalid_order\n",
    "        \n",
    "def fix_pages(rules, pages):\n",
    "    fixed_pages = []\n",
    "    for page in pages:\n",
    "        fixed_pages.append(fix_page(page, rules))\n",
    "    return fixed_pages\n",
    "    \n",
    "\n",
    "def part2(rules, invalid_orders):\n",
    "    fixed_pages = fix_pages(rules, invalid_orders)\n",
    "    total = calculate_middle_sum(fixed_pages)\n",
    "    return total\n"
   ]
  },
  {
   "cell_type": "code",
   "execution_count": 9,
   "metadata": {},
   "outputs": [
    {
     "name": "stdout",
     "output_type": "stream",
     "text": [
      "Part 1: 5064\n",
      "Part 2: 5152\n"
     ]
    }
   ],
   "source": [
    "if __name__ == \"__main__\":\n",
    "    with open(\"input.txt\") as f:\n",
    "        lines = f.readlines()\n",
    "    rules, pages = parse_input(lines)\n",
    "    valid_orders, invalid_orders = validate_pages(rules, pages)\n",
    "    \n",
    "    print(\"Part 1:\", part1(valid_orders))\n",
    "    # This can surely be optimized with some postition map\n",
    "    print(\"Part 2:\", part2(rules, invalid_orders))"
   ]
  }
 ],
 "metadata": {
  "kernelspec": {
   "display_name": "Python 3",
   "language": "python",
   "name": "python3"
  },
  "language_info": {
   "codemirror_mode": {
    "name": "ipython",
    "version": 3
   },
   "file_extension": ".py",
   "mimetype": "text/x-python",
   "name": "python",
   "nbconvert_exporter": "python",
   "pygments_lexer": "ipython3",
   "version": "3.12.2"
  }
 },
 "nbformat": 4,
 "nbformat_minor": 2
}
