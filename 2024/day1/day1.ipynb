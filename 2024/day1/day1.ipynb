{
 "cells": [
  {
   "cell_type": "code",
   "execution_count": 1,
   "metadata": {},
   "outputs": [],
   "source": [
    "def part1(lines):\n",
    "    lines = [list(map(int, line.split(\"   \"))) for line in lines]\n",
    "    lst1, lst2 = zip(*lines)\n",
    "    return sum(abs(a - b) for a, b in zip(sorted(lst1), sorted(lst2)))"
   ]
  },
  {
   "cell_type": "code",
   "execution_count": 2,
   "metadata": {},
   "outputs": [
    {
     "name": "stdout",
     "output_type": "stream",
     "text": [
      "Part 1: 1319616\n",
      "Part 2: 27267728\n"
     ]
    }
   ],
   "source": [
    "def part2(lines):\n",
    "    lst1, lst2 = zip(*[map(int, line.split(\"   \")) for line in lines])\n",
    "    lst1, lst2 = sorted(lst1), sorted(lst2)\n",
    "    return sum(lst2.count(i) * i for i in lst1)\n",
    "\n",
    "if __name__ == '__main__':\n",
    "    with open(\"input.txt\") as f:\n",
    "        lines = f.readlines()\n",
    "    print(\"Part 1:\", part1(lines))\n",
    "    print(\"Part 2:\", part2(lines))\n"
   ]
  }
 ],
 "metadata": {
  "kernelspec": {
   "display_name": "Python 3",
   "language": "python",
   "name": "python3"
  },
  "language_info": {
   "codemirror_mode": {
    "name": "ipython",
    "version": 3
   },
   "file_extension": ".py",
   "mimetype": "text/x-python",
   "name": "python",
   "nbconvert_exporter": "python",
   "pygments_lexer": "ipython3",
   "version": "3.12.2"
  }
 },
 "nbformat": 4,
 "nbformat_minor": 2
}
