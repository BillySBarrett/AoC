{
 "cells": [
  {
   "cell_type": "code",
   "execution_count": null,
   "metadata": {},
   "outputs": [],
   "source": [
    "def part1(lines):\n",
    "    total = 0\n",
    "\n",
    "    offsets = [\n",
    "        (0, 1),   # Right\n",
    "        (1, 0),   # Down\n",
    "        (-1, 0),  # Up\n",
    "        (0, -1),  # Left\n",
    "        (-1, -1), # Up-Left\n",
    "        (1, 1),   # Down-Right\n",
    "        (-1, 1),  # Up-Right\n",
    "        (1, -1),  # Down-Left\n",
    "    ]\n",
    "\n",
    "    for y in range(len(lines)):\n",
    "        for x in range(len(lines[y])):\n",
    "            if lines[y][x] == \"X\":\n",
    "                for offset in offsets:\n",
    "                    found = True\n",
    "                    for i, char in enumerate(\"XMAS\"):\n",
    "                        new_y = y + offset[0] * i\n",
    "                        new_x = x + offset[1] * i\n",
    "\n",
    "                        if new_y < 0 or new_y >= len(lines) or new_x < 0 or new_x >= len(lines[new_y]):\n",
    "                            found = False\n",
    "                            break\n",
    "\n",
    "                        if lines[new_y][new_x] != char:\n",
    "                            found = False\n",
    "                            break\n",
    "\n",
    "                    if found:\n",
    "                        total += 1\n",
    "    return total"
   ]
  },
  {
   "cell_type": "code",
   "execution_count": 17,
   "metadata": {},
   "outputs": [],
   "source": [
    "def check_diagonal(y, x, dy1, dx1, dy2, dx2, lines):\n",
    "    try:\n",
    "        top = lines[y + dy1][x + dx1]\n",
    "        bottom = lines[y + dy2][x + dx2]\n",
    "        return (top == \"M\" and bottom == \"S\") or (top == \"S\" and bottom == \"M\")\n",
    "    except IndexError:\n",
    "        return False \n",
    "\n",
    "def part2(lines):\n",
    "    total = 0\n",
    "\n",
    "    for y in range(1, len(lines) - 1):  \n",
    "        for x in range(1, len(lines[y]) - 1): \n",
    "            if lines[y][x] == \"A\":  \n",
    "                if (\n",
    "                    check_diagonal(y, x, -1, -1, 1, 1, lines) and  \n",
    "                    check_diagonal(y, x, -1, 1, 1, -1, lines)\n",
    "                ):\n",
    "                    total += 1 \n",
    "\n",
    "    return total"
   ]
  },
  {
   "cell_type": "code",
   "execution_count": 18,
   "metadata": {},
   "outputs": [
    {
     "name": "stdout",
     "output_type": "stream",
     "text": [
      "Part 1: 2406\n",
      "Part 2: 1807\n"
     ]
    }
   ],
   "source": [
    "if __name__ == '__main__':\n",
    "    with open(\"input.txt\") as f:\n",
    "        lines = f.readlines()\n",
    "    print(\"Part 1:\", part1(lines))\n",
    "    print(\"Part 2:\", part2(lines))\n",
    "    \n",
    "    "
   ]
  }
 ],
 "metadata": {
  "kernelspec": {
   "display_name": "Python 3",
   "language": "python",
   "name": "python3"
  },
  "language_info": {
   "codemirror_mode": {
    "name": "ipython",
    "version": 3
   },
   "file_extension": ".py",
   "mimetype": "text/x-python",
   "name": "python",
   "nbconvert_exporter": "python",
   "pygments_lexer": "ipython3",
   "version": "3.12.2"
  }
 },
 "nbformat": 4,
 "nbformat_minor": 2
}
