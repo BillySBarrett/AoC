{
 "cells": [
  {
   "cell_type": "code",
   "execution_count": 6,
   "metadata": {},
   "outputs": [],
   "source": [
    "from math import gcd\n",
    "\n",
    "def find_antinodes(lines):\n",
    "    antennas = {}\n",
    "    for r, line in enumerate(lines):\n",
    "        for c, ch in enumerate(line.strip()):\n",
    "            if ch != '.':\n",
    "                antennas.setdefault(ch, []).append((r, c))\n",
    "\n",
    "    maxH, maxW = len(lines), len(lines[0].strip())\n",
    "    antinodes_part1 = set()\n",
    "    antinodes_part2 = set()\n",
    "\n",
    "    for locations in antennas.values():\n",
    "        for i, (y1, x1) in enumerate(locations):\n",
    "            for y2, x2 in locations[i + 1:]:\n",
    "                dy, dx = y2 - y1, x2 - x1\n",
    "                \n",
    "                # normalize step vector\n",
    "                step = gcd(abs(dy), abs(dx))\n",
    "                dy, dx = dy // step, dx // step\n",
    "\n",
    "                #check for collinearity in first step\n",
    "                for k in [-1, step + 1]: \n",
    "                    ay, ax = y1 + k * dy, x1 + k * dx\n",
    "                    if 0 <= ay < maxH and 0 <= ax < maxW:\n",
    "                        antinodes_part1.add((ay, ax))\n",
    "\n",
    "                # forwards\n",
    "                ay, ax = y1, x1\n",
    "                while 0 <= ay < maxH and 0 <= ax < maxW:\n",
    "                    antinodes_part2.add((ay, ax))\n",
    "                    ay += dy\n",
    "                    ax += dx\n",
    "\n",
    "                # backwards\n",
    "                ay, ax = y1, x1\n",
    "                while 0 <= ay < maxH and 0 <= ax < maxW:\n",
    "                    antinodes_part2.add((ay, ax))\n",
    "                    ay -= dy\n",
    "                    ax -= dx\n",
    "\n",
    "    return len(antinodes_part1), len(antinodes_part2)"
   ]
  },
  {
   "cell_type": "code",
   "execution_count": 7,
   "metadata": {},
   "outputs": [
    {
     "name": "stdout",
     "output_type": "stream",
     "text": [
      "Part 1: 244\n",
      "Part 2: 912\n"
     ]
    }
   ],
   "source": [
    "if __name__ == \"__main__\":\n",
    "    with open(\"input.txt\") as f:\n",
    "        lines = f.readlines()\n",
    "    part1, part2 = find_antinodes(lines)\n",
    "    print(\"Part 1:\", part1)\n",
    "    print(\"Part 2:\", part2)"
   ]
  }
 ],
 "metadata": {
  "kernelspec": {
   "display_name": "Python 3",
   "language": "python",
   "name": "python3"
  },
  "language_info": {
   "codemirror_mode": {
    "name": "ipython",
    "version": 3
   },
   "file_extension": ".py",
   "mimetype": "text/x-python",
   "name": "python",
   "nbconvert_exporter": "python",
   "pygments_lexer": "ipython3",
   "version": "3.12.2"
  }
 },
 "nbformat": 4,
 "nbformat_minor": 2
}
