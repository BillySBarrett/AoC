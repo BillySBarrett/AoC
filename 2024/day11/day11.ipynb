{
 "cells": [
  {
   "cell_type": "code",
   "execution_count": 15,
   "metadata": {},
   "outputs": [],
   "source": [
    "from collections import Counter\n",
    "import math\n",
    "\n",
    "def number_of_digits(n):\n",
    "    return 1 if n == 0 else int(math.log10(n)) + 1\n",
    "\n",
    "def blink(stones):\n",
    "    new_stones = Counter()\n",
    "    pow10_cache = {}\n",
    "    def p10(e):  # cache for powers of 10\n",
    "        if e not in pow10_cache:\n",
    "            pow10_cache[e] = 10 ** e\n",
    "        return pow10_cache[e]\n",
    "\n",
    "    for value, count in stones.items():\n",
    "        if value == 0:\n",
    "            new_stones[1] += count\n",
    "        else:\n",
    "            L = number_of_digits(value)\n",
    "            if L % 2 == 0:\n",
    "                half = L // 2\n",
    "                power = p10(half)\n",
    "                new_stones[value // power] += count\n",
    "                new_stones[value % power] += count\n",
    "            else:\n",
    "                new_stones[value * 2024] += count\n",
    "    return new_stones\n",
    "\n",
    "def blink_n(stones, n):\n",
    "    for _ in range(n):\n",
    "        stones = blink(stones)\n",
    "    return sum(stones.values())"
   ]
  },
  {
   "cell_type": "code",
   "execution_count": 16,
   "metadata": {},
   "outputs": [
    {
     "name": "stdout",
     "output_type": "stream",
     "text": [
      "Part 1: 198089\n",
      "Part 2: 236302670835517\n"
     ]
    }
   ],
   "source": [
    "if __name__ == '__main__':\n",
    "    with open(\"input.txt\") as f:\n",
    "        stones_list = [int(x) for x in f.read().split()]\n",
    "    stones = Counter(stones_list)\n",
    "    \n",
    "    # first approach used brute force but was refactored to use part 2 solution which caches previously seen\n",
    "    print(\"Part 1:\", blink_n(stones, 25))\n",
    "    print(\"Part 2:\", blink_n(stones, 75))"
   ]
  }
 ],
 "metadata": {
  "kernelspec": {
   "display_name": "Python 3",
   "language": "python",
   "name": "python3"
  },
  "language_info": {
   "codemirror_mode": {
    "name": "ipython",
    "version": 3
   },
   "file_extension": ".py",
   "mimetype": "text/x-python",
   "name": "python",
   "nbconvert_exporter": "python",
   "pygments_lexer": "ipython3",
   "version": "3.12.2"
  }
 },
 "nbformat": 4,
 "nbformat_minor": 2
}
