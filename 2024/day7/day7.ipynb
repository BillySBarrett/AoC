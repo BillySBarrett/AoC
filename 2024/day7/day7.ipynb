{
 "cells": [
  {
   "cell_type": "code",
   "execution_count": 1,
   "metadata": {},
   "outputs": [],
   "source": [
    "from itertools import product\n",
    "\n",
    "def evaluate_left_to_right(numbers, operators, target_value):\n",
    "    result = numbers[0]\n",
    "    for i, op in enumerate(operators):\n",
    "        if result > target_value:\n",
    "            return 0\n",
    "        if op == '+':\n",
    "            result += numbers[i + 1]\n",
    "        elif op == '*':\n",
    "            result *= numbers[i + 1]\n",
    "        elif op == '||':\n",
    "            result = int(str(result) + str(numbers[i + 1]))\n",
    "    return result\n",
    "\n",
    "def find_possible_operators(line, operators):\n",
    "    target_value = int(line.split(\":\")[0])  \n",
    "    numbers = list(map(int, line.split(\":\")[1].strip().split(\" \"))) \n",
    "\n",
    "    operator_combinations = product(operators, repeat=len(numbers)-1)\n",
    "\n",
    "    for ops in operator_combinations:\n",
    "        result = evaluate_left_to_right(numbers, ops, target_value)\n",
    "        if result == target_value:\n",
    "            return target_value  \n",
    "\n",
    "    return 0\n",
    "\n",
    "def part1(lines):\n",
    "    return sum(find_possible_operators(line, ['+', '*']) for line in lines)"
   ]
  },
  {
   "cell_type": "code",
   "execution_count": 2,
   "metadata": {},
   "outputs": [],
   "source": [
    "def part2(lines):\n",
    "    return sum(find_possible_operators(line, ['+', '*', '||']) for line in lines)"
   ]
  },
  {
   "cell_type": "code",
   "execution_count": 3,
   "metadata": {},
   "outputs": [
    {
     "name": "stdout",
     "output_type": "stream",
     "text": [
      "Part 1: 5837374519342\n",
      "Part 2: 492383931650959\n"
     ]
    }
   ],
   "source": [
    "if __name__ == '__main__':\n",
    "    with open(\"input.txt\") as f:\n",
    "        lines = f.readlines()\n",
    "\n",
    "    # both are super brute force-y\n",
    "    print(\"Part 1:\", part1(lines))\n",
    "    print(\"Part 2:\", part2(lines))"
   ]
  }
 ],
 "metadata": {
  "kernelspec": {
   "display_name": "Python 3",
   "language": "python",
   "name": "python3"
  },
  "language_info": {
   "codemirror_mode": {
    "name": "ipython",
    "version": 3
   },
   "file_extension": ".py",
   "mimetype": "text/x-python",
   "name": "python",
   "nbconvert_exporter": "python",
   "pygments_lexer": "ipython3",
   "version": "3.12.2"
  }
 },
 "nbformat": 4,
 "nbformat_minor": 2
}
