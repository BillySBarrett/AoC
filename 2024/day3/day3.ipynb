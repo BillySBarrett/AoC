{
 "cells": [
  {
   "cell_type": "code",
   "execution_count": 22,
   "metadata": {},
   "outputs": [],
   "source": [
    "import re\n",
    "\n",
    "def find_total_occurrences(pattern, file):\n",
    "    lst = []\n",
    "    for line in file:\n",
    "        lst += re.findall(pattern, line)\n",
    "\n",
    "    total = 0\n",
    "    active = True\n",
    "\n",
    "    for i in lst:\n",
    "        if i == \"don't()\":\n",
    "            active = False\n",
    "        elif i == \"do()\":\n",
    "            active = True\n",
    "        elif active and \"mul\" in i:\n",
    "            first, second = map(int, i.strip(\"mul()\").split(\",\"))\n",
    "            total += first * second\n",
    "\n",
    "    return total\n",
    "\n",
    "def part1(lines):\n",
    "    return find_total_occurrences(r\"mul\\(\\d+,\\d+\\)\", lines)"
   ]
  },
  {
   "cell_type": "code",
   "execution_count": 23,
   "metadata": {},
   "outputs": [],
   "source": [
    "def part2(lines):\n",
    "    return find_total_occurrences(r\"mul\\(\\d+,\\d+\\)|do\\(\\)|don't\\(\\)\", lines)"
   ]
  },
  {
   "cell_type": "code",
   "execution_count": 24,
   "metadata": {},
   "outputs": [
    {
     "name": "stdout",
     "output_type": "stream",
     "text": [
      "Part 1: 170778545\n",
      "Part 2: 82868252\n"
     ]
    }
   ],
   "source": [
    "\n",
    "if __name__ == '__main__':\n",
    "    with open(\"input.txt\") as f:\n",
    "        lines = f.readlines()\n",
    "    print(\"Part 1:\", part1(lines))\n",
    "    print(\"Part 2:\", part2(lines))\n",
    "    "
   ]
  }
 ],
 "metadata": {
  "kernelspec": {
   "display_name": "Python 3",
   "language": "python",
   "name": "python3"
  },
  "language_info": {
   "codemirror_mode": {
    "name": "ipython",
    "version": 3
   },
   "file_extension": ".py",
   "mimetype": "text/x-python",
   "name": "python",
   "nbconvert_exporter": "python",
   "pygments_lexer": "ipython3",
   "version": "3.12.2"
  }
 },
 "nbformat": 4,
 "nbformat_minor": 2
}
