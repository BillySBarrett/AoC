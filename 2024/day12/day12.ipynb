{
 "cells": [
  {
   "cell_type": "code",
   "execution_count": null,
   "metadata": {},
   "outputs": [],
   "source": [
    "directions = [(1, 0), (0, 1), (-1, 0), (0, -1)]\n",
    "\n",
    "def flood_fill(grid, start_cell, visited):\n",
    "    region = []\n",
    "    stack = [start_cell]\n",
    "    root_value = grid[start_cell[0]][start_cell[1]]\n",
    "    perimeter = 0\n",
    "\n",
    "    while stack:\n",
    "        current_cell = stack.pop()\n",
    "        if current_cell in visited:\n",
    "            continue\n",
    "        visited.add(current_cell)\n",
    "        region.append(current_cell)\n",
    "\n",
    "        cy, cx = current_cell\n",
    "        for dy, dx in directions:\n",
    "            ny, nx = cy + dy, cx + dx\n",
    "            if 0 <= ny < len(grid) and 0 <= nx < len(grid[0]):\n",
    "                if grid[ny][nx] == root_value:\n",
    "                    if (ny, nx) not in visited:\n",
    "                        stack.append((ny, nx))\n",
    "                else:\n",
    "                    perimeter += 1\n",
    "            else:\n",
    "                perimeter += 1\n",
    "\n",
    "    return region, perimeter\n",
    "\n",
    "def count_sides(grid, region):\n",
    "    direction_boundaries = {(dy, dx): set() for dy, dx in directions}\n",
    "\n",
    "    # find boundary cells\n",
    "    for (row, col) in region:\n",
    "        for (dy, dx) in directions:\n",
    "            neighbor_y = row + dy\n",
    "            neighbor_x = col + dx\n",
    "            if not (\n",
    "                0 <= neighbor_y < len(grid) and \n",
    "                0 <= neighbor_x < len(grid[0]) and \n",
    "                grid[neighbor_y][neighbor_x] == grid[row][col]\n",
    "            ):\n",
    "                direction_boundaries[(dy, dx)].add((row, col))\n",
    "\n",
    "    total_sides = 0\n",
    "    # count how many connected segments of boundary cells there are\n",
    "    # I really think this should be refactored somehow but I'm too lazy\n",
    "    for boundary_cells in direction_boundaries.values():\n",
    "        visited_boundary_cells = set()\n",
    "        for boundary_cell in boundary_cells:\n",
    "            if boundary_cell not in visited_boundary_cells:\n",
    "                total_sides += 1\n",
    "                cells_to_explore = [boundary_cell]\n",
    "                while cells_to_explore:\n",
    "                    current_y, current_x = cells_to_explore.pop()\n",
    "                    if (current_y, current_x) in visited_boundary_cells:\n",
    "                        continue\n",
    "                    visited_boundary_cells.add((current_y, current_x))\n",
    "\n",
    "                    # find all boundary cells in the same segment\n",
    "                    for ddy, ddx in directions:\n",
    "                        neighbor_y, neighbor_x = current_y + ddy, current_x + ddx\n",
    "                        if (neighbor_y, neighbor_x) in boundary_cells and (neighbor_y, neighbor_x) not in visited_boundary_cells:\n",
    "                            cells_to_explore.append((neighbor_y, neighbor_x))\n",
    "\n",
    "    return total_sides\n",
    "\n",
    "def calculate_price(grid):\n",
    "    visited = set()\n",
    "    total_price_discounted = 0\n",
    "    total_price = 0\n",
    "\n",
    "    for row in range(len(grid)):\n",
    "        for col in range(len(grid[0])):\n",
    "            region, perimeter = flood_fill(grid, (row, col), visited)\n",
    "            area = len(region)\n",
    "\n",
    "            total_price += perimeter * area\n",
    "\n",
    "            sides_count = count_sides(grid, region)\n",
    "            total_price_discounted += area * sides_count\n",
    "    \n",
    "    return total_price,total_price_discounted\n"
   ]
  },
  {
   "cell_type": "code",
   "execution_count": 19,
   "metadata": {},
   "outputs": [
    {
     "name": "stdout",
     "output_type": "stream",
     "text": [
      "Part 1: 1375476\n",
      "Part 2: 821372\n"
     ]
    }
   ],
   "source": [
    "if __name__ == '__main__':\n",
    "    with open('input.txt') as f:\n",
    "        grid = [line.strip() for line in f]\n",
    "    part1, part2 = calculate_price(grid)\n",
    "    print(\"Part 1:\", part1)\n",
    "    print(\"Part 2:\", part2)"
   ]
  }
 ],
 "metadata": {
  "kernelspec": {
   "display_name": "Python 3",
   "language": "python",
   "name": "python3"
  },
  "language_info": {
   "codemirror_mode": {
    "name": "ipython",
    "version": 3
   },
   "file_extension": ".py",
   "mimetype": "text/x-python",
   "name": "python",
   "nbconvert_exporter": "python",
   "pygments_lexer": "ipython3",
   "version": "3.12.2"
  }
 },
 "nbformat": 4,
 "nbformat_minor": 2
}
