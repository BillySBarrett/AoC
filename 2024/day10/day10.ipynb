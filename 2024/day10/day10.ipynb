{
 "cells": [
  {
   "cell_type": "code",
   "execution_count": 10,
   "metadata": {},
   "outputs": [],
   "source": [
    "directions = [(0, 1), (1, 0), (0, -1), (-1, 0)]\n",
    "\n",
    "def count_ends(coords, num, visited, reached_nines, lines):\n",
    "    if num == 9:\n",
    "        reached_nines.add(coords)\n",
    "        return\n",
    "\n",
    "    for direction in directions:\n",
    "        new_coords = coords[0] + direction[0], coords[1] + direction[1]\n",
    "\n",
    "        if (0 <= new_coords[0] < len(lines) and\n",
    "            0 <= new_coords[1] < len(lines[0]) and\n",
    "            new_coords not in visited and\n",
    "            int(lines[new_coords[0]][new_coords[1]]) == num + 1):\n",
    "            \n",
    "            count_ends(new_coords, num + 1, visited | {new_coords}, reached_nines, lines)\n",
    "\n",
    "def count_paths(coords, num, visited, lines):\n",
    "    if num == 9:\n",
    "        return 1\n",
    "\n",
    "    count = 0\n",
    "    for direction in directions:\n",
    "\n",
    "        new_coords = coords[0] + direction[0], coords[1] + direction[1]\n",
    "\n",
    "        if (0 <= new_coords[0] < len(lines) and\n",
    "            0 <= new_coords[1] < len(lines[0]) and\n",
    "            new_coords not in visited and\n",
    "            int(lines[new_coords[0]][new_coords[1]]) == num + 1):\n",
    "\n",
    "            count += count_paths(new_coords, num + 1, visited | {new_coords}, lines)\n",
    "\n",
    "    return count\n"
   ]
  },
  {
   "cell_type": "code",
   "execution_count": 11,
   "metadata": {},
   "outputs": [],
   "source": [
    "def calculate_total_score_p1(lines):\n",
    "    total = 0\n",
    "    for y in range(len(lines)):\n",
    "        for x in range(len(lines[y])):\n",
    "            if lines[y][x] == '0':\n",
    "                reached_nines = set()\n",
    "                count_ends((y, x), 0, {(y, x)}, reached_nines, lines)\n",
    "                total += len(reached_nines)\n",
    "    return total"
   ]
  },
  {
   "cell_type": "code",
   "execution_count": 12,
   "metadata": {},
   "outputs": [],
   "source": [
    "\n",
    "def calculate_total_paths_p2(lines):\n",
    "    total = 0\n",
    "    for y in range(len(lines)):\n",
    "        for x in range(len(lines[y])):\n",
    "            if lines[y][x] == '0':\n",
    "                total += count_paths((y, x), 0, {(y, x)}, lines)\n",
    "    return total\n"
   ]
  },
  {
   "cell_type": "code",
   "execution_count": 13,
   "metadata": {},
   "outputs": [
    {
     "name": "stdout",
     "output_type": "stream",
     "text": [
      "Part 1: 798\n",
      "Part 2: 1816\n"
     ]
    }
   ],
   "source": [
    "if __name__ == '__main__':\n",
    "    with open(\"input.txt\") as f:\n",
    "        lines = f.read().splitlines()\n",
    "    print(\"Part 1:\", calculate_total_score_p1(lines))\n",
    "    print(\"Part 2:\", calculate_total_paths_p2(lines))"
   ]
  }
 ],
 "metadata": {
  "kernelspec": {
   "display_name": "Python 3",
   "language": "python",
   "name": "python3"
  },
  "language_info": {
   "codemirror_mode": {
    "name": "ipython",
    "version": 3
   },
   "file_extension": ".py",
   "mimetype": "text/x-python",
   "name": "python",
   "nbconvert_exporter": "python",
   "pygments_lexer": "ipython3",
   "version": "3.12.2"
  }
 },
 "nbformat": 4,
 "nbformat_minor": 2
}
