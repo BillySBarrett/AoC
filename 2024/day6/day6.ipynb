{
 "cells": [
  {
   "cell_type": "code",
   "execution_count": 1,
   "metadata": {},
   "outputs": [],
   "source": [
    "def find_start_state(map_lines):\n",
    "    for row_index, line in enumerate(map_lines):\n",
    "        for col_index, char in enumerate(line):\n",
    "            if char == \"^\":\n",
    "                return col_index, row_index, 0, -1\n",
    "\n",
    "def turn_right(direction_x, direction_y):\n",
    "    return -direction_y, direction_x\n",
    "\n",
    "def move_guard(guard_x, guard_y, direction_x, direction_y, map_lines, visited_positions):\n",
    "    map_width, map_height = len(map_lines[0]), len(map_lines)\n",
    "    next_x, next_y = guard_x + direction_x, guard_y + direction_y\n",
    "\n",
    "    if not (0 <= next_x < map_width and 0 <= next_y < map_height):\n",
    "        return guard_x, guard_y, direction_x, direction_y, True\n",
    "\n",
    "    if map_lines[next_y][next_x] == \"#\":\n",
    "        direction_x, direction_y = turn_right(direction_x, direction_y)\n",
    "    else:\n",
    "        guard_x, guard_y = next_x, next_y\n",
    "        visited_positions.add((guard_x, guard_y))\n",
    "\n",
    "    return guard_x, guard_y, direction_x, direction_y, False\n",
    "\n",
    "def is_loop(guard_x, guard_y, direction_x, direction_y, state_tracker):\n",
    "    current_state = ((guard_x, guard_y), (direction_x, direction_y))\n",
    "    if current_state in state_tracker:\n",
    "        return True\n",
    "    state_tracker.add(current_state)\n",
    "    return False\n",
    "\n",
    "def simulate_movement(map_lines):\n",
    "    guard_x, guard_y, direction_x, direction_y = find_start_state(map_lines)\n",
    "    visited_positions = {(guard_x, guard_y)}\n",
    "    state_tracker = set()\n",
    "\n",
    "    while True:\n",
    "        if is_loop(guard_x, guard_y, direction_x, direction_y, state_tracker):\n",
    "            return len(visited_positions), True\n",
    "\n",
    "        guard_x, guard_y, direction_x, direction_y, out_of_bounds = move_guard(\n",
    "            guard_x, guard_y, direction_x, direction_y, map_lines, visited_positions\n",
    "        )\n",
    "        if out_of_bounds:\n",
    "            return len(visited_positions), False\n",
    "\n",
    "def track_patrol_path(map_lines, patrol_path):\n",
    "    guard_x, guard_y, direction_x, direction_y = find_start_state(map_lines)\n",
    "    state_tracker = set()\n",
    "\n",
    "    while True:\n",
    "        patrol_path.add((guard_x, guard_y))\n",
    "        if ((guard_x, guard_y), (direction_x, direction_y)) in state_tracker:\n",
    "            break\n",
    "        state_tracker.add(((guard_x, guard_y), (direction_x, direction_y)))\n",
    "\n",
    "        guard_x, guard_y, direction_x, direction_y, out_of_bounds = move_guard(\n",
    "            guard_x, guard_y, direction_x, direction_y, map_lines, patrol_path\n",
    "        )\n",
    "        if out_of_bounds:\n",
    "            break\n",
    "\n",
    "def part1(map_lines):\n",
    "    total_area, _ = simulate_movement(map_lines)\n",
    "    return total_area"
   ]
  },
  {
   "cell_type": "code",
   "execution_count": 2,
   "metadata": {},
   "outputs": [],
   "source": [
    "\n",
    "def part2(map_lines):\n",
    "    mutable_map = [list(line) for line in map_lines]\n",
    "    patrol_path = set()\n",
    "    track_patrol_path([\"\".join(line) for line in mutable_map], patrol_path)\n",
    "    loop_count = 0\n",
    "\n",
    "    for col_index, row_index in patrol_path:\n",
    "        if mutable_map[row_index][col_index] == \".\":\n",
    "            mutable_map[row_index][col_index] = \"#\"\n",
    "            _, has_loop = simulate_movement([\"\".join(line) for line in mutable_map])\n",
    "            mutable_map[row_index][col_index] = \".\"\n",
    "            if has_loop:\n",
    "                loop_count += 1\n",
    "\n",
    "    return loop_count"
   ]
  },
  {
   "cell_type": "code",
   "execution_count": 3,
   "metadata": {},
   "outputs": [
    {
     "name": "stdout",
     "output_type": "stream",
     "text": [
      "Part 1: 4752\n",
      "Part 2: 1719\n"
     ]
    }
   ],
   "source": [
    "if __name__==\"__main__\":\n",
    "    file_path=\"input.txt\"\n",
    "    with open(file_path) as f:\n",
    "        lines = f.readlines()\n",
    "    print(\"Part 1:\", part1(lines))\n",
    "    # part 2 is really slow. Edit: only checking path cut down time by about 400%. Currently takes about 16 seconds\n",
    "    print(\"Part 2:\", part2(lines))\n"
   ]
  }
 ],
 "metadata": {
  "kernelspec": {
   "display_name": "Python 3",
   "language": "python",
   "name": "python3"
  },
  "language_info": {
   "codemirror_mode": {
    "name": "ipython",
    "version": 3
   },
   "file_extension": ".py",
   "mimetype": "text/x-python",
   "name": "python",
   "nbconvert_exporter": "python",
   "pygments_lexer": "ipython3",
   "version": "3.12.2"
  }
 },
 "nbformat": 4,
 "nbformat_minor": 2
}
